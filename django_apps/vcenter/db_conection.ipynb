{
 "cells": [
  {
   "cell_type": "code",
   "execution_count": 2,
   "metadata": {
    "collapsed": false
   },
   "outputs": [],
   "source": [
    "import psycopg2 as pg\n",
    "con = pg.connect(user=\"nexii\",password=\"nexii\",host=\"localhost\",port=5432,database=\"django_db\")"
   ]
  },
  {
   "cell_type": "code",
   "execution_count": 3,
   "metadata": {
    "collapsed": false
   },
   "outputs": [
    {
     "data": {
      "text/plain": [
       "<connection object at 0x7f3ff0041d70; dsn: 'dbname=django_db user=nexii password=xxxxx host=localhost port=5432', closed: 0>"
      ]
     },
     "execution_count": 3,
     "metadata": {},
     "output_type": "execute_result"
    }
   ],
   "source": [
    "con\n"
   ]
  },
  {
   "cell_type": "code",
   "execution_count": 15,
   "metadata": {
    "collapsed": false
   },
   "outputs": [
    {
     "name": "stdout",
     "output_type": "stream",
     "text": [
      "[[1, 2, 3], [5], [7, 8, 9, 10, 11, 12, 13], [20], [22, 23, 24, 25, 26, 27], [20, 21, 22], [4]]\n"
     ]
    }
   ],
   "source": [
    "l=[1,2,3,5,7,8,9,10,11,12,13,20,22,23,24,25,26,27,20,21,22,4]\n",
    "# add a sublists of consecutive numbers\n",
    "count=0\n",
    "l1=[]\n",
    "for i in l:\n",
    "    count = count+1\n",
    "    temp=[i]\n",
    "    for j in l[count:]:\n",
    "        if i+1==j:\n",
    "            temp.append(j)\n",
    "            l.remove(j)\n",
    "            i=j\n",
    "        else:\n",
    "            break\n",
    "    l1.append(temp)\n",
    "print l1\n",
    "            \n",
    "        "
   ]
  },
  {
   "cell_type": "code",
   "execution_count": 24,
   "metadata": {
    "collapsed": false
   },
   "outputs": [
    {
     "name": "stdout",
     "output_type": "stream",
     "text": [
      "[['1/1-4'], ['2/5-6'], ['2/8']]\n"
     ]
    }
   ],
   "source": [
    "Input = [\"1/1\",\"1/2\",\"1/3\",\"1/4\",\"2/5\",\"2/6\",\"2/8\"]\n",
    "Output = [[\"1/1-2\"],[\"1/4\"],[\"2/5-6\"],[\"2/8\"]]\n",
    "\n",
    "op=[]\n",
    "count = 0\n",
    "\n",
    "for i in Input:\n",
    "    den=\"\"\n",
    "    count=count+1\n",
    "    act = i.split('/')\n",
    "    for j in Input[count:]:\n",
    "        s=i.split('/')\n",
    "        s1=j.split(\"/\")\n",
    "        if s[0]==s1[0]:\n",
    "            if int(s[1])+1==int(s1[1]):\n",
    "                Input.remove(j)\n",
    "                den=act[1]+\"-\"+s1[1]\n",
    "                i=j\n",
    "            continue\n",
    "        else:\n",
    "            break\n",
    "    if den:\n",
    "        op.append([s[0]+\"/\"+den])\n",
    "    else:\n",
    "        op.append([i])\n",
    "print op"
   ]
  },
  {
   "cell_type": "code",
   "execution_count": 27,
   "metadata": {
    "collapsed": false
   },
   "outputs": [
    {
     "name": "stdout",
     "output_type": "stream",
     "text": [
      "enter coma separated numbers:2,4,5,6,8,10\n",
      "['even', 'even', 'odd', 'even', 'even', 'even']\n"
     ]
    }
   ],
   "source": [
    "\"\"\"\n",
    "input = 1,2,3,4,5,6,8,10\n",
    "output = odd,even,odd,even,odd,even,even,even\n",
    "\"\"\"\n",
    "a=raw_input(\"enter coma separated numbers:\")\n",
    "print [\"even\" if i%2==0 else \"odd\" for i in map(int,a.split(','))]"
   ]
  },
  {
   "cell_type": "code",
   "execution_count": null,
   "metadata": {
    "collapsed": true
   },
   "outputs": [],
   "source": []
  }
 ],
 "metadata": {
  "kernelspec": {
   "display_name": "Python [Root]",
   "language": "python",
   "name": "Python [Root]"
  },
  "language_info": {
   "codemirror_mode": {
    "name": "ipython",
    "version": 2
   },
   "file_extension": ".py",
   "mimetype": "text/x-python",
   "name": "python",
   "nbconvert_exporter": "python",
   "pygments_lexer": "ipython2",
   "version": "2.7.12"
  }
 },
 "nbformat": 4,
 "nbformat_minor": 0
}
