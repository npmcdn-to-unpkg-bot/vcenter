{
 "cells": [
  {
   "cell_type": "code",
   "execution_count": 4,
   "metadata": {
    "collapsed": false
   },
   "outputs": [
    {
     "ename": "IndentationError",
     "evalue": "unindent does not match any outer indentation level (<ipython-input-4-3e7476ab5403>, line 46)",
     "output_type": "error",
     "traceback": [
      "\u001b[1;36m  File \u001b[1;32m\"<ipython-input-4-3e7476ab5403>\"\u001b[1;36m, line \u001b[1;32m46\u001b[0m\n\u001b[1;33m    return result\u001b[0m\n\u001b[1;37m                 ^\u001b[0m\n\u001b[1;31mIndentationError\u001b[0m\u001b[1;31m:\u001b[0m unindent does not match any outer indentation level\n"
     ]
    }
   ],
   "source": [
    "def get_combinations(l):\n",
    "    comb=[]\n",
    "    le = len(l)\n",
    "    i=0\n",
    "    while i<le:\n",
    "        j=i\n",
    "        while j<le:\n",
    "            comb.append((l[i],l[j]))\n",
    "            j=j+1\n",
    "        i=i+1\n",
    "    return comb\n",
    "def calc():\n",
    "    cpus = [{\"cpu\":\"i3\",\"price\":1000},{\"cpu\":\"i5\",\"price\":2000},{\"cpu\":\"i7\",\"price\":3000}]\n",
    "    harddisks = [{\"hdd\":1,\"price\":1000},{\"hdd\":\"2T\",\"price\":2000},{\"hdd\":\"5T\",\"price\":3000},{\"hdd\":\"7T\",\"price\":4000}]\n",
    "    rams = [{\"ram\":1,\"price\":100},{\"ram\":2,\"price\":200},{\"ram\":4,\"price\":300},{\"ram\":8,\"price\":400}]\n",
    "    ssds = [{\"ssd\":\"200G\",\"price\":5000},{\"ssd\":\"400G\",\"price\":6000},{\"ssd\":\"800G\",\"price\":7000}]\n",
    "    twoslots_harddisks=get_combinations(harddisks)\n",
    "    twoslots_rams=get_combinations(rams)\n",
    "    twoslots_ssds=get_combinations(ssds)\n",
    "\n",
    "    result = []\n",
    "    for cpu in cpus:\n",
    "        for ram in rams:\n",
    "            for harddisk in harddisks:\n",
    "                for ssd in ssds:\n",
    "                    total = cpu['price']+ram['price']+harddisk['price']+ssd['price']\n",
    "                    result.append({\n",
    "                        'cpu':cpu['cpu'],\n",
    "                        'ram':ram['ram'],\n",
    "                        'hd':harddisk['hdd'],\n",
    "                        'ssd':ssd['ssd'],\n",
    "                        'total':total\n",
    "                        })\n",
    "    for cpu in cpus:\n",
    "        for twoslots_ram in twoslots_rams:\n",
    "            for twoslots_harddisk in twoslots_harddisks:\n",
    "                for twoslots_ssd in twoslots_ssds:\n",
    "                    total = twoslots_ssd[0]['price']+twoslots_ssd[1]['price']\\\n",
    "                    +twoslots_harddisk[0]['price']+twoslots_harddisk[1]['price']\\\n",
    "                    +twoslots_ssd[0]['price']+twoslots_ssd[1]['price']\n",
    "                    result.append({\n",
    "                        'cpu':cpu['cpu'],\n",
    "                        'ram':str(twoslots_ram[0]['ram'])+\",\"+str(twoslots_ram[1]['ram']),\n",
    "                        'hd':str(twoslots_harddisk[0]['hdd'])+\",\"+str(twoslots_harddisk[1]['hdd']),\n",
    "                        'ssd':str(twoslots_ssd[0]['ssd'])+\",\"+str(twoslots_ssd[1]['ssd']),\n",
    "                        'total':total\n",
    "                        })\n",
    "    return result\n",
    "print calc()"
   ]
  },
  {
   "cell_type": "code",
   "execution_count": null,
   "metadata": {
    "collapsed": true
   },
   "outputs": [],
   "source": []
  }
 ],
 "metadata": {
  "kernelspec": {
   "display_name": "Python [Root]",
   "language": "python",
   "name": "Python [Root]"
  },
  "language_info": {
   "codemirror_mode": {
    "name": "ipython",
    "version": 2
   },
   "file_extension": ".py",
   "mimetype": "text/x-python",
   "name": "python",
   "nbconvert_exporter": "python",
   "pygments_lexer": "ipython2",
   "version": "2.7.12"
  }
 },
 "nbformat": 4,
 "nbformat_minor": 0
}
